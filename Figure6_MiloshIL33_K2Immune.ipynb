{
 "cells": [
  {
   "cell_type": "code",
   "execution_count": 1,
   "id": "61ec540e",
   "metadata": {
    "ExecuteTime": {
     "end_time": "2022-06-09T18:27:14.562907Z",
     "start_time": "2022-06-09T18:27:10.840966Z"
    }
   },
   "outputs": [
    {
     "name": "stderr",
     "output_type": "stream",
     "text": [
      "findfont: Font family ['Raleway'] not found. Falling back to DejaVu Sans.\n",
      "findfont: Font family ['Lato'] not found. Falling back to DejaVu Sans.\n"
     ]
    }
   ],
   "source": [
    "import os\n",
    "\n",
    "import scutils_cnb_clean\n",
    "from scutils_cnb_clean import *\n",
    "np.random.seed(1966)\n",
    "\n",
    "from mpl_toolkits.mplot3d.art3d import LineCollection\n",
    "from matplotlib import pyplot as plt\n",
    "from sklearn.neighbors import NearestNeighbors\n",
    "\n",
    "import rpy2\n",
    "import anndata2ri\n",
    "\n",
    "import scanpy\n",
    "import anndata\n",
    "\n",
    "import gseapy"
   ]
  },
  {
   "cell_type": "code",
   "execution_count": 2,
   "id": "5cdd77e8",
   "metadata": {
    "ExecuteTime": {
     "end_time": "2022-06-09T18:27:14.577579Z",
     "start_time": "2022-06-09T18:27:14.565826Z"
    }
   },
   "outputs": [],
   "source": [
    "%matplotlib inline"
   ]
  },
  {
   "cell_type": "code",
   "execution_count": 3,
   "id": "8e091da8",
   "metadata": {
    "ExecuteTime": {
     "end_time": "2022-06-09T18:27:14.584006Z",
     "start_time": "2022-06-09T18:27:14.581347Z"
    }
   },
   "outputs": [],
   "source": [
    "working_dir = '/Users/burdziac/Documents/PDAC/notebooks_final_June2021/'"
   ]
  },
  {
   "cell_type": "markdown",
   "id": "f9b97d5a",
   "metadata": {},
   "source": [
    "# Functions"
   ]
  },
  {
   "cell_type": "code",
   "execution_count": 4,
   "id": "c34f5055",
   "metadata": {
    "ExecuteTime": {
     "end_time": "2022-06-09T18:27:14.599922Z",
     "start_time": "2022-06-09T18:27:14.587385Z"
    },
    "code_folding": [
     0,
     14,
     22
    ]
   },
   "outputs": [],
   "source": [
    "def plot_G(tsne, G,ax,\n",
    "           alpha_G=0.7, color_G='r',s=10,t='k',cmap='viridis',colorbar=False):\n",
    "    \n",
    "    # generate collection of all edges (assumes symmetric)\n",
    "    segments = [tsne[[i, j],:] for (i, j) in G.todok().keys() if i < j]\n",
    "    ax.add_collection(LineCollection(segments, colors=color_G, alpha=alpha_G))\n",
    "\n",
    "    if colorbar:\n",
    "        plt.colorbar()\n",
    "    plt.axis(\"off\")\n",
    "    ax.scatter(tsne[:,0],tsne[:,1],s=s,c=t,cmap=cmap,edgecolor='k',zorder=10,vmin=-5,vmax=5)\n",
    "    return ax\n",
    "\n",
    "#using script from Joe Chan\n",
    "def convert_genes(genes_to_map,direction='h2m'):\n",
    "    pd.DataFrame(genes_to_map,columns=['Genes']).to_csv(\"scripts/script_intermediates/genes_tmp.csv\")\n",
    "    command = \"Rscript scripts/ConvertHuman2MouseGenes_Joe_CNBEdit.R {}\".format(direction)\n",
    "    os.system(command)\n",
    "    output = pd.read_csv(\"scripts/script_intermediates/converted_tmp.csv\",index_col=0)\n",
    "    os.system(\"rm scripts/script_intermediates/converted_tmp.csv\")\n",
    "    return output['x'].values\n",
    "\n",
    "def plot_G2(tsne, G,ax,\n",
    "           alpha_G=0.7, color_G='r',s=10,t='k',cmap='viridis',colorbar=False):\n",
    "    \n",
    "    # generate collection of all edges (assumes symmetric)\n",
    "    segments = [tsne[[i, j],:] for (i, j) in G.todok().keys() if i < j]\n",
    "    ax.add_collection(LineCollection(segments, colors=color_G, alpha=alpha_G))\n",
    "\n",
    "    if colorbar:\n",
    "        plt.colorbar()\n",
    "    plt.axis(\"off\")\n",
    "    ax.scatter(tsne[:,0],tsne[:,1],s=s,c=t,cmap=cmap,edgecolor='k',zorder=10)\n",
    "    return ax"
   ]
  },
  {
   "cell_type": "markdown",
   "id": "8fb06a0f",
   "metadata": {},
   "source": [
    "# Hard-coded Metadata"
   ]
  },
  {
   "cell_type": "code",
   "execution_count": 5,
   "id": "3e8852a9",
   "metadata": {
    "ExecuteTime": {
     "end_time": "2022-06-09T18:27:14.606372Z",
     "start_time": "2022-06-09T18:27:14.602460Z"
    },
    "code_folding": []
   },
   "outputs": [],
   "source": [
    "stage_dict = {'DACD345_CD45_PLUS':'T5/IL33KD',\n",
    "    'DACD346-CD45+':'T4/IL33KD',\n",
    " 'DACD347_CD45_PLUS':'T5/IL33KD',\n",
    " 'DACD349_CD45_PLUS':\"T5\",\n",
    " 'DACD350-CD45+':'T4',\n",
    " 'DACD351-CD45+':'T3',\n",
    " 'DACE604-CD45_pos':\"T4/IL33KD\",\n",
    " 'DACE605-CD45_pos':'T4/IL33KD',\n",
    " 'DACE621-CD45_pos':\"T4\",\n",
    " 'E607-CD45':'T5/IL33KD',\n",
    " 'E610-CD45':\"T5\",\n",
    " 'E614-CD45':\"T5/IL33KD\"}"
   ]
  },
  {
   "cell_type": "code",
   "execution_count": 6,
   "id": "9b8bc465",
   "metadata": {
    "ExecuteTime": {
     "end_time": "2022-06-09T18:27:14.613390Z",
     "start_time": "2022-06-09T18:27:14.609090Z"
    }
   },
   "outputs": [],
   "source": [
    "cohort_dict = {'DACD345_CD45_PLUS':'C1',\n",
    "    'DACD346-CD45+':'C1',\n",
    " 'DACD347_CD45_PLUS':'C1',\n",
    " 'DACD349_CD45_PLUS':'C1',\n",
    " 'DACD350-CD45+':'C1',\n",
    " 'DACD351-CD45+':'C1',\n",
    " 'DACE604-CD45_pos':\"C2\",\n",
    " 'DACE605-CD45_pos':'C2',\n",
    " 'DACE621-CD45_pos':\"C2\",\n",
    " 'E607-CD45':'C2',\n",
    " 'E610-CD45':\"C2\",\n",
    " 'E614-CD45':\"C2\"}"
   ]
  },
  {
   "cell_type": "code",
   "execution_count": 7,
   "id": "0a4377c7",
   "metadata": {
    "ExecuteTime": {
     "end_time": "2022-06-09T18:27:14.619438Z",
     "start_time": "2022-06-09T18:27:14.616027Z"
    }
   },
   "outputs": [],
   "source": [
    "color_dict= {\n",
    "\"T3\":\"#EED04D\",\n",
    "\"T4\":\"#1D89E3\",\n",
    "\"T5\":\"#F8BADE\",\n",
    "\"T4/IL33KD\":\"#004b8a\",\n",
    "\"T5/IL33KD\":\"#804e6b\"}"
   ]
  },
  {
   "cell_type": "markdown",
   "id": "dc02ae24",
   "metadata": {},
   "source": [
    "# Set up R Environment"
   ]
  },
  {
   "cell_type": "code",
   "execution_count": 8,
   "id": "3f364df9",
   "metadata": {
    "ExecuteTime": {
     "end_time": "2022-06-09T18:27:14.625153Z",
     "start_time": "2022-06-09T18:27:14.621906Z"
    }
   },
   "outputs": [],
   "source": [
    "anndata2ri.activate()"
   ]
  },
  {
   "cell_type": "code",
   "execution_count": 9,
   "id": "9270edda",
   "metadata": {
    "ExecuteTime": {
     "end_time": "2022-06-09T18:27:15.147627Z",
     "start_time": "2022-06-09T18:27:14.631000Z"
    }
   },
   "outputs": [],
   "source": [
    "%load_ext rpy2.ipython"
   ]
  },
  {
   "cell_type": "code",
   "execution_count": 10,
   "id": "77a3ca92",
   "metadata": {
    "ExecuteTime": {
     "end_time": "2022-06-09T18:27:22.783943Z",
     "start_time": "2022-06-09T18:27:15.151387Z"
    }
   },
   "outputs": [
    {
     "name": "stderr",
     "output_type": "stream",
     "text": [
      "R[write to console]: Loading required package: edgeR\n",
      "\n",
      "R[write to console]: Loading required package: limma\n",
      "\n",
      "R[write to console]: \n",
      "Attaching package: ‘igraph’\n",
      "\n",
      "\n",
      "R[write to console]: The following object is masked from ‘package:miloR’:\n",
      "\n",
      "    graph\n",
      "\n",
      "\n",
      "R[write to console]: The following objects are masked from ‘package:stats’:\n",
      "\n",
      "    decompose, spectrum\n",
      "\n",
      "\n",
      "R[write to console]: The following object is masked from ‘package:base’:\n",
      "\n",
      "    union\n",
      "\n",
      "\n"
     ]
    }
   ],
   "source": [
    "%%R\n",
    "library(miloR)\n",
    "library(igraph)\n",
    "library(ggplot2)"
   ]
  },
  {
   "cell_type": "markdown",
   "id": "df9bdac8",
   "metadata": {},
   "source": [
    "# Preparation to Run Milo\n",
    "\n",
    "## Load Data in Python "
   ]
  },
  {
   "cell_type": "code",
   "execution_count": 11,
   "id": "e63c9b5d",
   "metadata": {
    "ExecuteTime": {
     "end_time": "2022-06-09T18:27:26.377019Z",
     "start_time": "2022-06-09T18:27:22.786597Z"
    }
   },
   "outputs": [],
   "source": [
    "sc = load_sc(working_dir+\"saved_analyses/CD45Plus_PerturbationSubset_T4.pickle\")"
   ]
  },
  {
   "cell_type": "markdown",
   "id": "b3925aa7",
   "metadata": {},
   "source": [
    "## Set Up adata Object & Pass to R"
   ]
  },
  {
   "cell_type": "code",
   "execution_count": 12,
   "id": "3d8d9b29",
   "metadata": {
    "ExecuteTime": {
     "end_time": "2022-06-09T18:27:26.435488Z",
     "start_time": "2022-06-09T18:27:26.379436Z"
    },
    "code_folding": []
   },
   "outputs": [],
   "source": [
    "cell_barcodes = [\"{}_{}\".format(sc.cell_ids[i],sc.sample_ids[i]) for i in range(sc.data.shape[0])]\n",
    "condition = [stage_dict[i] for i in sc.sample_ids]\n",
    "cohort = [cohort_dict[i] for i in sc.sample_ids]\n",
    "obs = pd.DataFrame(dict(batch=sc.sample_ids,total_molecules=sc.lib_size.astype(np.int32),\n",
    "                       condition=condition,cohort=cohort,celltype=sc.communities_refined,\n",
    "                  cluster = sc.communities_coarse),index=cell_barcodes,)\n",
    "var = pd.DataFrame(index=list(sc.data_normalized_libsize))\n",
    "\n",
    "#obsm = {\"X_pca\":sc.pcs_corrected,\n",
    "#       \"X_tsne\":sc.tsne_corrected,\"X_umap\":sc.tsne_corrected}\n",
    "\n",
    "#not using corrected PCs\n",
    "obsm = {\"X_pca\":sc.pc_log,\n",
    "       \"X_tsne\":sc.tsne_corrected,\"X_umap\":sc.tsne_corrected}\n",
    "\n",
    "num_PCs = sc.npca_log"
   ]
  },
  {
   "cell_type": "code",
   "execution_count": 13,
   "id": "b666b8b3",
   "metadata": {
    "ExecuteTime": {
     "end_time": "2022-06-09T18:27:28.127830Z",
     "start_time": "2022-06-09T18:27:26.437879Z"
    }
   },
   "outputs": [],
   "source": [
    "adata = anndata.AnnData(X=np.log(sc.data_normalized_libsize.values+.1),#csr_matrix(sc.data_normalized.values.astype(np.float32)), \n",
    "                        obs=obs, \n",
    "                        var=var, \n",
    "                        uns=None, \n",
    "                        obsm=obsm, \n",
    "                        varm=None, layers=None, raw=None, dtype='float32', \n",
    "                        shape=None, filename=None, filemode=None, asview=False, \n",
    "                        obsp=None, varp=None, oidx=None, vidx=None)"
   ]
  },
  {
   "cell_type": "code",
   "execution_count": 14,
   "id": "7badd756",
   "metadata": {
    "ExecuteTime": {
     "end_time": "2022-06-09T18:30:56.003785Z",
     "start_time": "2022-06-09T18:27:28.130601Z"
    }
   },
   "outputs": [
    {
     "name": "stdout",
     "output_type": "stream",
     "text": [
      "class: SingleCellExperiment \n",
      "dim: 13408 12270 \n",
      "metadata(0):\n",
      "assays(1): X\n",
      "rownames(13408): WTIP HIST1H2AN ... GBP7 MREG\n",
      "rowData names(0):\n",
      "colnames(12270): 120703436646324_DACD346-CD45+\n",
      "  120703436835765_DACD346-CD45+ ... 241114576538998_DACE621-CD45_pos\n",
      "  241114577000349_DACE621-CD45_pos\n",
      "colData names(6): batch total_molecules ... celltype cluster\n",
      "reducedDimNames(3): PCA TSNE UMAP\n",
      "mainExpName: NULL\n",
      "altExpNames(0):\n"
     ]
    }
   ],
   "source": [
    "%%R -i adata\n",
    "adata"
   ]
  },
  {
   "cell_type": "code",
   "execution_count": 15,
   "id": "de5f53d5",
   "metadata": {
    "ExecuteTime": {
     "end_time": "2022-06-09T18:30:56.584450Z",
     "start_time": "2022-06-09T18:30:56.006158Z"
    }
   },
   "outputs": [
    {
     "name": "stdout",
     "output_type": "stream",
     "text": [
      "class: Milo \n",
      "dim: 13408 12270 \n",
      "metadata(0):\n",
      "assays(1): X\n",
      "rownames(13408): WTIP HIST1H2AN ... GBP7 MREG\n",
      "rowData names(0):\n",
      "colnames(12270): 120703436646324_DACD346-CD45+\n",
      "  120703436835765_DACD346-CD45+ ... 241114576538998_DACE621-CD45_pos\n",
      "  241114577000349_DACE621-CD45_pos\n",
      "colData names(6): batch total_molecules ... celltype cluster\n",
      "reducedDimNames(3): PCA TSNE UMAP\n",
      "mainExpName: NULL\n",
      "altExpNames(0):\n",
      "nhoods dimensions(2): 1 1\n",
      "nhoodCounts dimensions(2): 1 1\n",
      "nhoodDistances dimension(1): 0\n",
      "graph names(0):\n",
      "nhoodIndex names(1): 0\n",
      "nhoodExpression dimension(2): 1 1\n",
      "nhoodReducedDim names(0):\n",
      "nhoodGraph names(0):\n",
      "nhoodAdjacency dimension(2): 1 1\n"
     ]
    }
   ],
   "source": [
    "%%R \n",
    "milo <- Milo(adata)\n",
    "milo"
   ]
  },
  {
   "cell_type": "code",
   "execution_count": 16,
   "id": "44ab3b14",
   "metadata": {
    "ExecuteTime": {
     "end_time": "2022-06-09T18:30:56.605465Z",
     "start_time": "2022-06-09T18:30:56.587188Z"
    }
   },
   "outputs": [
    {
     "name": "stdout",
     "output_type": "stream",
     "text": [
      "[1] 55\n"
     ]
    }
   ],
   "source": [
    "%%R -i num_PCs\n",
    "num_PCs"
   ]
  },
  {
   "cell_type": "code",
   "execution_count": 17,
   "id": "ceaca2b6",
   "metadata": {
    "ExecuteTime": {
     "end_time": "2022-06-09T18:30:59.195050Z",
     "start_time": "2022-06-09T18:30:56.607772Z"
    }
   },
   "outputs": [
    {
     "name": "stderr",
     "output_type": "stream",
     "text": [
      "R[write to console]: Constructing kNN graph with k:10\n",
      "\n"
     ]
    }
   ],
   "source": [
    "%%R \n",
    "milo <- buildGraph(milo, d=num_PCs,\n",
    "  transposed = TRUE,\n",
    "  get.distance = FALSE,\n",
    "  reduced.dim = \"PCA\"\n",
    ")"
   ]
  },
  {
   "cell_type": "code",
   "execution_count": 18,
   "id": "9f54cf9a",
   "metadata": {
    "ExecuteTime": {
     "end_time": "2022-06-09T18:30:59.392219Z",
     "start_time": "2022-06-09T18:30:59.197725Z"
    }
   },
   "outputs": [
    {
     "name": "stdout",
     "output_type": "stream",
     "text": [
      "class: Milo \n",
      "dim: 13408 12270 \n",
      "metadata(0):\n",
      "assays(1): X\n",
      "rownames(13408): WTIP HIST1H2AN ... GBP7 MREG\n",
      "rowData names(0):\n",
      "colnames(12270): 120703436646324_DACD346-CD45+\n",
      "  120703436835765_DACD346-CD45+ ... 241114576538998_DACE621-CD45_pos\n",
      "  241114577000349_DACE621-CD45_pos\n",
      "colData names(6): batch total_molecules ... celltype cluster\n",
      "reducedDimNames(3): PCA TSNE UMAP\n",
      "mainExpName: NULL\n",
      "altExpNames(0):\n",
      "nhoods dimensions(2): 1 1\n",
      "nhoodCounts dimensions(2): 1 1\n",
      "nhoodDistances dimension(1): 0\n",
      "graph names(1): graph\n",
      "nhoodIndex names(1): 0\n",
      "nhoodExpression dimension(2): 1 1\n",
      "nhoodReducedDim names(0):\n",
      "nhoodGraph names(0):\n",
      "nhoodAdjacency dimension(2): 1 1\n"
     ]
    }
   ],
   "source": [
    "%%R\n",
    "milo"
   ]
  },
  {
   "cell_type": "markdown",
   "id": "d81920fb",
   "metadata": {},
   "source": [
    "# Run Milo\n",
    "\n",
    "## Prepare Design Matrix for Milo"
   ]
  },
  {
   "cell_type": "code",
   "execution_count": 19,
   "id": "e0f9eba4",
   "metadata": {
    "ExecuteTime": {
     "end_time": "2022-06-09T18:30:59.426146Z",
     "start_time": "2022-06-09T18:30:59.395065Z"
    }
   },
   "outputs": [
    {
     "name": "stderr",
     "output_type": "stream",
     "text": [
      "/Users/burdziac/Documents/bin/miniconda2/envs/MyEnv/lib/python3.6/site-packages/ipykernel_launcher.py:3: SettingWithCopyWarning: \n",
      "A value is trying to be set on a copy of a slice from a DataFrame\n",
      "\n",
      "See the caveats in the documentation: https://pandas.pydata.org/pandas-docs/stable/user_guide/indexing.html#returning-a-view-versus-a-copy\n",
      "  This is separate from the ipykernel package so we can avoid doing imports until\n"
     ]
    },
    {
     "data": {
      "text/html": [
       "<div>\n",
       "<style scoped>\n",
       "    .dataframe tbody tr th:only-of-type {\n",
       "        vertical-align: middle;\n",
       "    }\n",
       "\n",
       "    .dataframe tbody tr th {\n",
       "        vertical-align: top;\n",
       "    }\n",
       "\n",
       "    .dataframe thead th {\n",
       "        text-align: right;\n",
       "    }\n",
       "</style>\n",
       "<table border=\"1\" class=\"dataframe\">\n",
       "  <thead>\n",
       "    <tr style=\"text-align: right;\">\n",
       "      <th></th>\n",
       "      <th>batch</th>\n",
       "      <th>condition</th>\n",
       "      <th>cohort</th>\n",
       "    </tr>\n",
       "    <tr>\n",
       "      <th>batch</th>\n",
       "      <th></th>\n",
       "      <th></th>\n",
       "      <th></th>\n",
       "    </tr>\n",
       "  </thead>\n",
       "  <tbody>\n",
       "    <tr>\n",
       "      <th>DACD346-CD45+</th>\n",
       "      <td>DACD346-CD45+</td>\n",
       "      <td>T4/IL33KD</td>\n",
       "      <td>C1</td>\n",
       "    </tr>\n",
       "    <tr>\n",
       "      <th>DACD350-CD45+</th>\n",
       "      <td>DACD350-CD45+</td>\n",
       "      <td>T4</td>\n",
       "      <td>C1</td>\n",
       "    </tr>\n",
       "    <tr>\n",
       "      <th>DACE604-CD45_pos</th>\n",
       "      <td>DACE604-CD45_pos</td>\n",
       "      <td>T4/IL33KD</td>\n",
       "      <td>C2</td>\n",
       "    </tr>\n",
       "    <tr>\n",
       "      <th>DACE605-CD45_pos</th>\n",
       "      <td>DACE605-CD45_pos</td>\n",
       "      <td>T4/IL33KD</td>\n",
       "      <td>C2</td>\n",
       "    </tr>\n",
       "    <tr>\n",
       "      <th>DACE621-CD45_pos</th>\n",
       "      <td>DACE621-CD45_pos</td>\n",
       "      <td>T4</td>\n",
       "      <td>C2</td>\n",
       "    </tr>\n",
       "  </tbody>\n",
       "</table>\n",
       "</div>"
      ],
      "text/plain": [
       "                             batch  condition cohort\n",
       "batch                                               \n",
       "DACD346-CD45+        DACD346-CD45+  T4/IL33KD     C1\n",
       "DACD350-CD45+        DACD350-CD45+         T4     C1\n",
       "DACE604-CD45_pos  DACE604-CD45_pos  T4/IL33KD     C2\n",
       "DACE605-CD45_pos  DACE605-CD45_pos  T4/IL33KD     C2\n",
       "DACE621-CD45_pos  DACE621-CD45_pos         T4     C2"
      ]
     },
     "execution_count": 19,
     "metadata": {},
     "output_type": "execute_result"
    }
   ],
   "source": [
    "#define dataframe to input in milo (at least cells x independent variable)\n",
    "design_df = obs[[\"batch\", \"condition\",'cohort']]\n",
    "design_df.drop_duplicates(inplace=True)\n",
    "design_df.index = design_df['batch']\n",
    "design_df"
   ]
  },
  {
   "cell_type": "markdown",
   "id": "7bd49994",
   "metadata": {},
   "source": [
    "## Run Milo in R"
   ]
  },
  {
   "cell_type": "code",
   "execution_count": 20,
   "id": "3a1036f2",
   "metadata": {
    "ExecuteTime": {
     "end_time": "2022-06-09T18:32:07.799789Z",
     "start_time": "2022-06-09T18:30:59.428700Z"
    }
   },
   "outputs": [
    {
     "name": "stderr",
     "output_type": "stream",
     "text": [
      "R[write to console]: Checking valid object\n",
      "\n",
      "R[write to console]: Checking meta.data validity\n",
      "\n",
      "R[write to console]: Counting cells in neighbourhoods\n",
      "\n",
      "R[write to console]: Using TMM normalisation\n",
      "\n",
      "R[write to console]: Performing spatial FDR correction withk-distance weighting\n",
      "\n"
     ]
    }
   ],
   "source": [
    "%%R -i design_df -o DA_results\n",
    "## Define neighbourhoods\n",
    "milo <- makeNhoods(milo, d=num_PCs, refined = TRUE)\n",
    "\n",
    "## Count cells in neighbourhoods\n",
    "milo <- countCells(milo, meta.data = data.frame(colData(milo)), sample=\"batch\")\n",
    "\n",
    "## Calculate distances between cells in neighbourhoods\n",
    "## for spatial FDR correction\n",
    "milo <- calcNhoodDistance(milo, d=num_PCs)\n",
    "\n",
    "## Test for differential abundance set ~ <confounding_variable>  + <independent variable>\n",
    "\n",
    "#correcting for confounding variable (key of that variable in original adata.obs)\n",
    "#DA_results <- testNhoods(milo, design = ~ confounding_variable + independent_variable , design.df = design_df)\n",
    "\n",
    "#without correcting for confounding variable\n",
    "DA_results <- testNhoods(milo, design = ~ cohort + condition , design.df = design_df)"
   ]
  },
  {
   "cell_type": "code",
   "execution_count": 21,
   "id": "4d456884",
   "metadata": {
    "ExecuteTime": {
     "end_time": "2022-06-09T18:32:07.999187Z",
     "start_time": "2022-06-09T18:32:07.802640Z"
    }
   },
   "outputs": [
    {
     "name": "stdout",
     "output_type": "stream",
     "text": [
      "class: Milo \n",
      "dim: 13408 12270 \n",
      "metadata(0):\n",
      "assays(1): X\n",
      "rownames(13408): WTIP HIST1H2AN ... GBP7 MREG\n",
      "rowData names(0):\n",
      "colnames(12270): 120703436646324_DACD346-CD45+\n",
      "  120703436835765_DACD346-CD45+ ... 241114576538998_DACE621-CD45_pos\n",
      "  241114577000349_DACE621-CD45_pos\n",
      "colData names(6): batch total_molecules ... celltype cluster\n",
      "reducedDimNames(3): PCA TSNE UMAP\n",
      "mainExpName: NULL\n",
      "altExpNames(0):\n",
      "nhoods dimensions(2): 12270 907\n",
      "nhoodCounts dimensions(2): 907 5\n",
      "nhoodDistances dimension(1): 907\n",
      "graph names(1): graph\n",
      "nhoodIndex names(1): 907\n",
      "nhoodExpression dimension(2): 1 1\n",
      "nhoodReducedDim names(0):\n",
      "nhoodGraph names(0):\n",
      "nhoodAdjacency dimension(2): 1 1\n"
     ]
    }
   ],
   "source": [
    "%%R\n",
    "milo"
   ]
  },
  {
   "cell_type": "code",
   "execution_count": 22,
   "id": "19f31843",
   "metadata": {
    "ExecuteTime": {
     "end_time": "2022-06-09T18:32:08.021536Z",
     "start_time": "2022-06-09T18:32:08.001800Z"
    }
   },
   "outputs": [
    {
     "data": {
      "text/html": [
       "<div>\n",
       "<style scoped>\n",
       "    .dataframe tbody tr th:only-of-type {\n",
       "        vertical-align: middle;\n",
       "    }\n",
       "\n",
       "    .dataframe tbody tr th {\n",
       "        vertical-align: top;\n",
       "    }\n",
       "\n",
       "    .dataframe thead th {\n",
       "        text-align: right;\n",
       "    }\n",
       "</style>\n",
       "<table border=\"1\" class=\"dataframe\">\n",
       "  <thead>\n",
       "    <tr style=\"text-align: right;\">\n",
       "      <th></th>\n",
       "      <th>logFC</th>\n",
       "      <th>logCPM</th>\n",
       "      <th>F</th>\n",
       "      <th>PValue</th>\n",
       "      <th>FDR</th>\n",
       "      <th>Nhood</th>\n",
       "      <th>SpatialFDR</th>\n",
       "    </tr>\n",
       "  </thead>\n",
       "  <tbody>\n",
       "    <tr>\n",
       "      <th>210</th>\n",
       "      <td>2.581059</td>\n",
       "      <td>10.862692</td>\n",
       "      <td>1.648802e+00</td>\n",
       "      <td>0.199286</td>\n",
       "      <td>0.952875</td>\n",
       "      <td>210.0</td>\n",
       "      <td>0.944442</td>\n",
       "    </tr>\n",
       "    <tr>\n",
       "      <th>272</th>\n",
       "      <td>-5.713963</td>\n",
       "      <td>10.327756</td>\n",
       "      <td>5.147751e+00</td>\n",
       "      <td>0.023394</td>\n",
       "      <td>0.952875</td>\n",
       "      <td>272.0</td>\n",
       "      <td>0.944442</td>\n",
       "    </tr>\n",
       "    <tr>\n",
       "      <th>271</th>\n",
       "      <td>2.155218</td>\n",
       "      <td>10.153253</td>\n",
       "      <td>9.893798e-01</td>\n",
       "      <td>0.320027</td>\n",
       "      <td>0.952875</td>\n",
       "      <td>271.0</td>\n",
       "      <td>0.944442</td>\n",
       "    </tr>\n",
       "    <tr>\n",
       "      <th>608</th>\n",
       "      <td>2.582947</td>\n",
       "      <td>10.212376</td>\n",
       "      <td>1.441767e+00</td>\n",
       "      <td>0.230010</td>\n",
       "      <td>0.952875</td>\n",
       "      <td>608.0</td>\n",
       "      <td>0.944442</td>\n",
       "    </tr>\n",
       "    <tr>\n",
       "      <th>609</th>\n",
       "      <td>3.022091</td>\n",
       "      <td>10.519261</td>\n",
       "      <td>2.698123e+00</td>\n",
       "      <td>0.100640</td>\n",
       "      <td>0.952875</td>\n",
       "      <td>609.0</td>\n",
       "      <td>0.944442</td>\n",
       "    </tr>\n",
       "    <tr>\n",
       "      <th>...</th>\n",
       "      <td>...</td>\n",
       "      <td>...</td>\n",
       "      <td>...</td>\n",
       "      <td>...</td>\n",
       "      <td>...</td>\n",
       "      <td>...</td>\n",
       "      <td>...</td>\n",
       "    </tr>\n",
       "    <tr>\n",
       "      <th>69</th>\n",
       "      <td>0.032490</td>\n",
       "      <td>10.184663</td>\n",
       "      <td>5.153061e-05</td>\n",
       "      <td>0.994273</td>\n",
       "      <td>0.997709</td>\n",
       "      <td>69.0</td>\n",
       "      <td>0.997474</td>\n",
       "    </tr>\n",
       "    <tr>\n",
       "      <th>779</th>\n",
       "      <td>-0.034089</td>\n",
       "      <td>10.097792</td>\n",
       "      <td>3.872253e-05</td>\n",
       "      <td>0.995036</td>\n",
       "      <td>0.997709</td>\n",
       "      <td>779.0</td>\n",
       "      <td>0.997474</td>\n",
       "    </tr>\n",
       "    <tr>\n",
       "      <th>727</th>\n",
       "      <td>0.022368</td>\n",
       "      <td>10.238252</td>\n",
       "      <td>3.169386e-05</td>\n",
       "      <td>0.995509</td>\n",
       "      <td>0.997709</td>\n",
       "      <td>727.0</td>\n",
       "      <td>0.997474</td>\n",
       "    </tr>\n",
       "    <tr>\n",
       "      <th>328</th>\n",
       "      <td>-0.006359</td>\n",
       "      <td>9.720470</td>\n",
       "      <td>2.434190e-06</td>\n",
       "      <td>0.998755</td>\n",
       "      <td>0.999753</td>\n",
       "      <td>328.0</td>\n",
       "      <td>0.999753</td>\n",
       "    </tr>\n",
       "    <tr>\n",
       "      <th>837</th>\n",
       "      <td>-0.000855</td>\n",
       "      <td>10.324879</td>\n",
       "      <td>9.605024e-08</td>\n",
       "      <td>0.999753</td>\n",
       "      <td>0.999753</td>\n",
       "      <td>837.0</td>\n",
       "      <td>0.999753</td>\n",
       "    </tr>\n",
       "  </tbody>\n",
       "</table>\n",
       "<p>907 rows × 7 columns</p>\n",
       "</div>"
      ],
      "text/plain": [
       "        logFC     logCPM             F    PValue       FDR  Nhood  SpatialFDR\n",
       "210  2.581059  10.862692  1.648802e+00  0.199286  0.952875  210.0    0.944442\n",
       "272 -5.713963  10.327756  5.147751e+00  0.023394  0.952875  272.0    0.944442\n",
       "271  2.155218  10.153253  9.893798e-01  0.320027  0.952875  271.0    0.944442\n",
       "608  2.582947  10.212376  1.441767e+00  0.230010  0.952875  608.0    0.944442\n",
       "609  3.022091  10.519261  2.698123e+00  0.100640  0.952875  609.0    0.944442\n",
       "..        ...        ...           ...       ...       ...    ...         ...\n",
       "69   0.032490  10.184663  5.153061e-05  0.994273  0.997709   69.0    0.997474\n",
       "779 -0.034089  10.097792  3.872253e-05  0.995036  0.997709  779.0    0.997474\n",
       "727  0.022368  10.238252  3.169386e-05  0.995509  0.997709  727.0    0.997474\n",
       "328 -0.006359   9.720470  2.434190e-06  0.998755  0.999753  328.0    0.999753\n",
       "837 -0.000855  10.324879  9.605024e-08  0.999753  0.999753  837.0    0.999753\n",
       "\n",
       "[907 rows x 7 columns]"
      ]
     },
     "execution_count": 22,
     "metadata": {},
     "output_type": "execute_result"
    }
   ],
   "source": [
    "DA_results.sort_values('FDR')"
   ]
  },
  {
   "cell_type": "code",
   "execution_count": 23,
   "id": "89827a9e",
   "metadata": {
    "ExecuteTime": {
     "end_time": "2022-06-09T18:32:09.000163Z",
     "start_time": "2022-06-09T18:32:08.024334Z"
    }
   },
   "outputs": [
    {
     "name": "stderr",
     "output_type": "stream",
     "text": [
      "R[write to console]: Converting celltype to factor...\n",
      "\n",
      "R[write to console]: Converting cluster to factor...\n",
      "\n"
     ]
    }
   ],
   "source": [
    "%%R -o DA_results_annot -o DA_results_annot_coarse\n",
    "DA_results_annot <- annotateNhoods(milo, DA_results, coldata_col = \"celltype\")\n",
    "DA_results_annot_coarse <- annotateNhoods(milo, DA_results, coldata_col = \"cluster\")"
   ]
  },
  {
   "cell_type": "code",
   "execution_count": 24,
   "id": "adc3851a",
   "metadata": {
    "ExecuteTime": {
     "end_time": "2022-06-09T18:32:09.023300Z",
     "start_time": "2022-06-09T18:32:09.002783Z"
    }
   },
   "outputs": [],
   "source": [
    "DA_results_annot.to_csv(working_dir+\"final_outputs/Figure6/DAResultsAnnot_T4Immune.csv\",index=True,header=True)"
   ]
  },
  {
   "cell_type": "code",
   "execution_count": null,
   "id": "2671ae87",
   "metadata": {},
   "outputs": [],
   "source": []
  }
 ],
 "metadata": {
  "kernelspec": {
   "display_name": "MyEnv",
   "language": "python",
   "name": "myenv"
  },
  "language_info": {
   "codemirror_mode": {
    "name": "ipython",
    "version": 3
   },
   "file_extension": ".py",
   "mimetype": "text/x-python",
   "name": "python",
   "nbconvert_exporter": "python",
   "pygments_lexer": "ipython3",
   "version": "3.6.12"
  },
  "toc": {
   "base_numbering": 1,
   "nav_menu": {},
   "number_sections": true,
   "sideBar": true,
   "skip_h1_title": false,
   "title_cell": "Table of Contents",
   "title_sidebar": "Contents",
   "toc_cell": false,
   "toc_position": {},
   "toc_section_display": true,
   "toc_window_display": false
  }
 },
 "nbformat": 4,
 "nbformat_minor": 5
}
