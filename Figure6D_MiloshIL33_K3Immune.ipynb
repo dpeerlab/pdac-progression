{
 "cells": [
  {
   "cell_type": "code",
   "execution_count": 1,
   "id": "61ec540e",
   "metadata": {
    "ExecuteTime": {
     "end_time": "2022-06-09T18:26:56.768071Z",
     "start_time": "2022-06-09T18:26:52.978682Z"
    }
   },
   "outputs": [
    {
     "name": "stderr",
     "output_type": "stream",
     "text": [
      "findfont: Font family ['Raleway'] not found. Falling back to DejaVu Sans.\n",
      "findfont: Font family ['Lato'] not found. Falling back to DejaVu Sans.\n"
     ]
    }
   ],
   "source": [
    "import os\n",
    "\n",
    "import scutils_cnb_clean\n",
    "from scutils_cnb_clean import *\n",
    "np.random.seed(1342)\n",
    "\n",
    "from mpl_toolkits.mplot3d.art3d import LineCollection\n",
    "from matplotlib import pyplot as plt\n",
    "from sklearn.neighbors import NearestNeighbors\n",
    "\n",
    "import rpy2\n",
    "import anndata2ri\n",
    "\n",
    "import scanpy\n",
    "import anndata\n",
    "\n",
    "import gseapy"
   ]
  },
  {
   "cell_type": "code",
   "execution_count": 2,
   "id": "5cdd77e8",
   "metadata": {
    "ExecuteTime": {
     "end_time": "2022-06-09T18:26:56.782484Z",
     "start_time": "2022-06-09T18:26:56.771089Z"
    }
   },
   "outputs": [],
   "source": [
    "%matplotlib inline"
   ]
  },
  {
   "cell_type": "code",
   "execution_count": 3,
   "id": "c7e1a91d",
   "metadata": {
    "ExecuteTime": {
     "end_time": "2022-06-09T18:26:56.788456Z",
     "start_time": "2022-06-09T18:26:56.785860Z"
    }
   },
   "outputs": [],
   "source": [
    "working_dir = '/Users/burdziac/Documents/PDAC/notebooks_final_June2021/'"
   ]
  },
  {
   "cell_type": "markdown",
   "id": "f9b97d5a",
   "metadata": {},
   "source": [
    "# Functions"
   ]
  },
  {
   "cell_type": "code",
   "execution_count": 4,
   "id": "c34f5055",
   "metadata": {
    "ExecuteTime": {
     "end_time": "2022-06-09T18:26:56.804342Z",
     "start_time": "2022-06-09T18:26:56.791984Z"
    },
    "code_folding": [
     0,
     14,
     22
    ]
   },
   "outputs": [],
   "source": [
    "def plot_G(tsne, G,ax,\n",
    "           alpha_G=0.7, color_G='r',s=10,t='k',cmap='viridis',colorbar=False):\n",
    "    \n",
    "    # generate collection of all edges (assumes symmetric)\n",
    "    segments = [tsne[[i, j],:] for (i, j) in G.todok().keys() if i < j]\n",
    "    ax.add_collection(LineCollection(segments, colors=color_G, alpha=alpha_G))\n",
    "\n",
    "    if colorbar:\n",
    "        plt.colorbar()\n",
    "    plt.axis(\"off\")\n",
    "    ax.scatter(tsne[:,0],tsne[:,1],s=s,c=t,cmap=cmap,edgecolor='k',zorder=10,vmin=-5,vmax=5)\n",
    "    return ax\n",
    "\n",
    "#using script from Joe Chan\n",
    "def convert_genes(genes_to_map,direction='h2m'):\n",
    "    pd.DataFrame(genes_to_map,columns=['Genes']).to_csv(\"scripts/script_intermediates/genes_tmp.csv\")\n",
    "    command = \"Rscript scripts/ConvertHuman2MouseGenes_Joe_CNBEdit.R {}\".format(direction)\n",
    "    os.system(command)\n",
    "    output = pd.read_csv(\"scripts/script_intermediates/converted_tmp.csv\",index_col=0)\n",
    "    os.system(\"rm scripts/script_intermediates/converted_tmp.csv\")\n",
    "    return output['x'].values\n",
    "\n",
    "def plot_G2(tsne, G,ax,\n",
    "           alpha_G=0.7, color_G='r',s=10,t='k',cmap='viridis',colorbar=False):\n",
    "    \n",
    "    # generate collection of all edges (assumes symmetric)\n",
    "    segments = [tsne[[i, j],:] for (i, j) in G.todok().keys() if i < j]\n",
    "    ax.add_collection(LineCollection(segments, colors=color_G, alpha=alpha_G))\n",
    "\n",
    "    if colorbar:\n",
    "        plt.colorbar()\n",
    "    plt.axis(\"off\")\n",
    "    ax.scatter(tsne[:,0],tsne[:,1],s=s,c=t,cmap=cmap,edgecolor='k',zorder=10)\n",
    "    return ax"
   ]
  },
  {
   "cell_type": "markdown",
   "id": "8fb06a0f",
   "metadata": {},
   "source": [
    "# Hard-coded Metadata"
   ]
  },
  {
   "cell_type": "code",
   "execution_count": 5,
   "id": "3e8852a9",
   "metadata": {
    "ExecuteTime": {
     "end_time": "2022-06-09T18:26:56.810727Z",
     "start_time": "2022-06-09T18:26:56.806811Z"
    },
    "code_folding": []
   },
   "outputs": [],
   "source": [
    "stage_dict = {'DACD345_CD45_PLUS':'T5/IL33KD',\n",
    "    'DACD346-CD45+':'T4/IL33KD',\n",
    " 'DACD347_CD45_PLUS':'T5/IL33KD',\n",
    " 'DACD349_CD45_PLUS':\"T5\",\n",
    " 'DACD350-CD45+':'T4',\n",
    " 'DACD351-CD45+':'T3',\n",
    " 'DACE604-CD45_pos':\"T4/IL33KD\",\n",
    " 'DACE605-CD45_pos':'T4/IL33KD',\n",
    " 'DACE621-CD45_pos':\"T4\",\n",
    " 'E607-CD45':'T5/IL33KD',\n",
    " 'E610-CD45':\"T5\",\n",
    " 'E614-CD45':\"T5/IL33KD\"}"
   ]
  },
  {
   "cell_type": "code",
   "execution_count": 6,
   "id": "9b8bc465",
   "metadata": {
    "ExecuteTime": {
     "end_time": "2022-06-09T18:26:56.817615Z",
     "start_time": "2022-06-09T18:26:56.813181Z"
    }
   },
   "outputs": [],
   "source": [
    "cohort_dict = {'DACD345_CD45_PLUS':'C1',\n",
    "    'DACD346-CD45+':'C1',\n",
    " 'DACD347_CD45_PLUS':'C1',\n",
    " 'DACD349_CD45_PLUS':'C1',\n",
    " 'DACD350-CD45+':'C1',\n",
    " 'DACD351-CD45+':'C1',\n",
    " 'DACE604-CD45_pos':\"C2\",\n",
    " 'DACE605-CD45_pos':'C2',\n",
    " 'DACE621-CD45_pos':\"C2\",\n",
    " 'E607-CD45':'C2',\n",
    " 'E610-CD45':\"C2\",\n",
    " 'E614-CD45':\"C2\"}"
   ]
  },
  {
   "cell_type": "code",
   "execution_count": 7,
   "id": "0a4377c7",
   "metadata": {
    "ExecuteTime": {
     "end_time": "2022-06-09T18:26:56.823577Z",
     "start_time": "2022-06-09T18:26:56.820054Z"
    }
   },
   "outputs": [],
   "source": [
    "color_dict= {\n",
    "\"T3\":\"#EED04D\",\n",
    "\"T4\":\"#1D89E3\",\n",
    "\"T5\":\"#F8BADE\",\n",
    "\"T4/IL33KD\":\"#004b8a\",\n",
    "\"T5/IL33KD\":\"#804e6b\"}"
   ]
  },
  {
   "cell_type": "markdown",
   "id": "dc02ae24",
   "metadata": {},
   "source": [
    "# Set up R Environment"
   ]
  },
  {
   "cell_type": "code",
   "execution_count": 8,
   "id": "3f364df9",
   "metadata": {
    "ExecuteTime": {
     "end_time": "2022-06-09T18:26:56.832154Z",
     "start_time": "2022-06-09T18:26:56.828878Z"
    }
   },
   "outputs": [],
   "source": [
    "anndata2ri.activate()"
   ]
  },
  {
   "cell_type": "code",
   "execution_count": 9,
   "id": "9270edda",
   "metadata": {
    "ExecuteTime": {
     "end_time": "2022-06-09T18:26:57.338595Z",
     "start_time": "2022-06-09T18:26:56.836466Z"
    }
   },
   "outputs": [],
   "source": [
    "%load_ext rpy2.ipython"
   ]
  },
  {
   "cell_type": "code",
   "execution_count": 10,
   "id": "77a3ca92",
   "metadata": {
    "ExecuteTime": {
     "end_time": "2022-06-09T18:27:04.962016Z",
     "start_time": "2022-06-09T18:26:57.340968Z"
    }
   },
   "outputs": [
    {
     "name": "stderr",
     "output_type": "stream",
     "text": [
      "R[write to console]: Loading required package: edgeR\n",
      "\n",
      "R[write to console]: Loading required package: limma\n",
      "\n",
      "R[write to console]: \n",
      "Attaching package: ‘igraph’\n",
      "\n",
      "\n",
      "R[write to console]: The following object is masked from ‘package:miloR’:\n",
      "\n",
      "    graph\n",
      "\n",
      "\n",
      "R[write to console]: The following objects are masked from ‘package:stats’:\n",
      "\n",
      "    decompose, spectrum\n",
      "\n",
      "\n",
      "R[write to console]: The following object is masked from ‘package:base’:\n",
      "\n",
      "    union\n",
      "\n",
      "\n",
      "R[write to console]: Need help? Try Stackoverflow: https://stackoverflow.com/tags/ggplot2\n",
      "\n"
     ]
    }
   ],
   "source": [
    "%%R\n",
    "library(miloR)\n",
    "library(igraph)\n",
    "library(ggplot2)"
   ]
  },
  {
   "cell_type": "markdown",
   "id": "df9bdac8",
   "metadata": {},
   "source": [
    "# Preparation to Run Milo\n",
    "\n",
    "## Load Data in Python "
   ]
  },
  {
   "cell_type": "code",
   "execution_count": 11,
   "id": "e63c9b5d",
   "metadata": {
    "ExecuteTime": {
     "end_time": "2022-06-09T18:27:06.823224Z",
     "start_time": "2022-06-09T18:27:04.964601Z"
    }
   },
   "outputs": [],
   "source": [
    "sc = load_sc(working_dir+\"saved_analyses/CD45Plus_PerturbationSubset_T5.pickle\")"
   ]
  },
  {
   "cell_type": "markdown",
   "id": "b3925aa7",
   "metadata": {},
   "source": [
    "## Set Up adata Object & Pass to R"
   ]
  },
  {
   "cell_type": "code",
   "execution_count": 12,
   "id": "3d8d9b29",
   "metadata": {
    "ExecuteTime": {
     "end_time": "2022-06-09T18:27:06.862783Z",
     "start_time": "2022-06-09T18:27:06.825735Z"
    },
    "code_folding": []
   },
   "outputs": [],
   "source": [
    "cell_barcodes = [\"{}_{}\".format(sc.cell_ids[i],sc.sample_ids[i]) for i in range(sc.data.shape[0])]\n",
    "condition = [stage_dict[i] for i in sc.sample_ids]\n",
    "cohort = [cohort_dict[i] for i in sc.sample_ids]\n",
    "obs = pd.DataFrame(dict(batch=sc.sample_ids,total_molecules=sc.lib_size.astype(np.int32),\n",
    "                       condition=condition,cohort=cohort,celltype=sc.communities_refined,\n",
    "                  cluster = sc.communities_coarse),index=cell_barcodes,)\n",
    "var = pd.DataFrame(index=list(sc.data_normalized_libsize))\n",
    "\n",
    "#obsm = {\"X_pca\":sc.pcs_corrected,\n",
    "#       \"X_tsne\":sc.tsne_corrected,\"X_umap\":sc.tsne_corrected}\n",
    "\n",
    "#not using corrected PCs\n",
    "obsm = {\"X_pca\":sc.pc_log,\n",
    "       \"X_tsne\":sc.tsne_corrected,\"X_umap\":sc.tsne_corrected}\n",
    "\n",
    "num_PCs = sc.npca_log"
   ]
  },
  {
   "cell_type": "code",
   "execution_count": 13,
   "id": "b666b8b3",
   "metadata": {
    "ExecuteTime": {
     "end_time": "2022-06-09T18:27:07.770414Z",
     "start_time": "2022-06-09T18:27:06.865288Z"
    }
   },
   "outputs": [],
   "source": [
    "adata = anndata.AnnData(X=np.log(sc.data_normalized_libsize.values+.1),#csr_matrix(sc.data_normalized.values.astype(np.float32)), \n",
    "                        obs=obs, \n",
    "                        var=var, \n",
    "                        uns=None, \n",
    "                        obsm=obsm, \n",
    "                        varm=None, layers=None, raw=None, dtype='float32', \n",
    "                        shape=None, filename=None, filemode=None, asview=False, \n",
    "                        obsp=None, varp=None, oidx=None, vidx=None)"
   ]
  },
  {
   "cell_type": "code",
   "execution_count": 14,
   "id": "7badd756",
   "metadata": {
    "ExecuteTime": {
     "end_time": "2022-06-09T18:29:17.330758Z",
     "start_time": "2022-06-09T18:27:07.772867Z"
    }
   },
   "outputs": [
    {
     "name": "stdout",
     "output_type": "stream",
     "text": [
      "class: SingleCellExperiment \n",
      "dim: 13408 6774 \n",
      "metadata(0):\n",
      "assays(1): X\n",
      "rownames(13408): WTIP HIST1H2AN ... GBP7 MREG\n",
      "rowData names(0):\n",
      "colnames(6774): 120703423794532_DACD349_CD45_PLUS\n",
      "  120703424093427_DACD349_CD45_PLUS ... 241114607970611_E614-CD45\n",
      "  241114608004012_E614-CD45\n",
      "colData names(6): batch total_molecules ... celltype cluster\n",
      "reducedDimNames(3): PCA TSNE UMAP\n",
      "mainExpName: NULL\n",
      "altExpNames(0):\n"
     ]
    }
   ],
   "source": [
    "%%R -i adata\n",
    "adata"
   ]
  },
  {
   "cell_type": "code",
   "execution_count": 15,
   "id": "de5f53d5",
   "metadata": {
    "ExecuteTime": {
     "end_time": "2022-06-09T18:29:17.908719Z",
     "start_time": "2022-06-09T18:29:17.333148Z"
    }
   },
   "outputs": [
    {
     "name": "stdout",
     "output_type": "stream",
     "text": [
      "class: Milo \n",
      "dim: 13408 6774 \n",
      "metadata(0):\n",
      "assays(1): X\n",
      "rownames(13408): WTIP HIST1H2AN ... GBP7 MREG\n",
      "rowData names(0):\n",
      "colnames(6774): 120703423794532_DACD349_CD45_PLUS\n",
      "  120703424093427_DACD349_CD45_PLUS ... 241114607970611_E614-CD45\n",
      "  241114608004012_E614-CD45\n",
      "colData names(6): batch total_molecules ... celltype cluster\n",
      "reducedDimNames(3): PCA TSNE UMAP\n",
      "mainExpName: NULL\n",
      "altExpNames(0):\n",
      "nhoods dimensions(2): 1 1\n",
      "nhoodCounts dimensions(2): 1 1\n",
      "nhoodDistances dimension(1): 0\n",
      "graph names(0):\n",
      "nhoodIndex names(1): 0\n",
      "nhoodExpression dimension(2): 1 1\n",
      "nhoodReducedDim names(0):\n",
      "nhoodGraph names(0):\n",
      "nhoodAdjacency dimension(2): 1 1\n"
     ]
    }
   ],
   "source": [
    "%%R \n",
    "milo <- Milo(adata)\n",
    "milo"
   ]
  },
  {
   "cell_type": "code",
   "execution_count": 16,
   "id": "44ab3b14",
   "metadata": {
    "ExecuteTime": {
     "end_time": "2022-06-09T18:29:17.930601Z",
     "start_time": "2022-06-09T18:29:17.911375Z"
    }
   },
   "outputs": [
    {
     "name": "stdout",
     "output_type": "stream",
     "text": [
      "[1] 58\n"
     ]
    }
   ],
   "source": [
    "%%R -i num_PCs\n",
    "num_PCs"
   ]
  },
  {
   "cell_type": "code",
   "execution_count": 17,
   "id": "ceaca2b6",
   "metadata": {
    "ExecuteTime": {
     "end_time": "2022-06-09T18:29:18.866305Z",
     "start_time": "2022-06-09T18:29:17.932935Z"
    }
   },
   "outputs": [
    {
     "name": "stderr",
     "output_type": "stream",
     "text": [
      "R[write to console]: Constructing kNN graph with k:10\n",
      "\n"
     ]
    }
   ],
   "source": [
    "%%R \n",
    "milo <- buildGraph(milo,\n",
    "  transposed = TRUE,\n",
    "  get.distance = FALSE,\n",
    "  reduced.dim = \"PCA\"\n",
    ")"
   ]
  },
  {
   "cell_type": "code",
   "execution_count": 18,
   "id": "9f54cf9a",
   "metadata": {
    "ExecuteTime": {
     "end_time": "2022-06-09T18:29:19.072448Z",
     "start_time": "2022-06-09T18:29:18.868802Z"
    }
   },
   "outputs": [
    {
     "name": "stdout",
     "output_type": "stream",
     "text": [
      "class: Milo \n",
      "dim: 13408 6774 \n",
      "metadata(0):\n",
      "assays(1): X\n",
      "rownames(13408): WTIP HIST1H2AN ... GBP7 MREG\n",
      "rowData names(0):\n",
      "colnames(6774): 120703423794532_DACD349_CD45_PLUS\n",
      "  120703424093427_DACD349_CD45_PLUS ... 241114607970611_E614-CD45\n",
      "  241114608004012_E614-CD45\n",
      "colData names(6): batch total_molecules ... celltype cluster\n",
      "reducedDimNames(3): PCA TSNE UMAP\n",
      "mainExpName: NULL\n",
      "altExpNames(0):\n",
      "nhoods dimensions(2): 1 1\n",
      "nhoodCounts dimensions(2): 1 1\n",
      "nhoodDistances dimension(1): 0\n",
      "graph names(1): graph\n",
      "nhoodIndex names(1): 0\n",
      "nhoodExpression dimension(2): 1 1\n",
      "nhoodReducedDim names(0):\n",
      "nhoodGraph names(0):\n",
      "nhoodAdjacency dimension(2): 1 1\n"
     ]
    }
   ],
   "source": [
    "%%R\n",
    "milo"
   ]
  },
  {
   "cell_type": "markdown",
   "id": "d81920fb",
   "metadata": {},
   "source": [
    "# Run Milo\n",
    "\n",
    "## Prepare Design Matrix for Milo"
   ]
  },
  {
   "cell_type": "code",
   "execution_count": 19,
   "id": "e0f9eba4",
   "metadata": {
    "ExecuteTime": {
     "end_time": "2022-06-09T18:29:19.106060Z",
     "start_time": "2022-06-09T18:29:19.075314Z"
    }
   },
   "outputs": [
    {
     "name": "stderr",
     "output_type": "stream",
     "text": [
      "/Users/burdziac/Documents/bin/miniconda2/envs/MyEnv/lib/python3.6/site-packages/ipykernel_launcher.py:3: SettingWithCopyWarning: \n",
      "A value is trying to be set on a copy of a slice from a DataFrame\n",
      "\n",
      "See the caveats in the documentation: https://pandas.pydata.org/pandas-docs/stable/user_guide/indexing.html#returning-a-view-versus-a-copy\n",
      "  This is separate from the ipykernel package so we can avoid doing imports until\n"
     ]
    },
    {
     "data": {
      "text/html": [
       "<div>\n",
       "<style scoped>\n",
       "    .dataframe tbody tr th:only-of-type {\n",
       "        vertical-align: middle;\n",
       "    }\n",
       "\n",
       "    .dataframe tbody tr th {\n",
       "        vertical-align: top;\n",
       "    }\n",
       "\n",
       "    .dataframe thead th {\n",
       "        text-align: right;\n",
       "    }\n",
       "</style>\n",
       "<table border=\"1\" class=\"dataframe\">\n",
       "  <thead>\n",
       "    <tr style=\"text-align: right;\">\n",
       "      <th></th>\n",
       "      <th>batch</th>\n",
       "      <th>condition</th>\n",
       "      <th>cohort</th>\n",
       "    </tr>\n",
       "    <tr>\n",
       "      <th>batch</th>\n",
       "      <th></th>\n",
       "      <th></th>\n",
       "      <th></th>\n",
       "    </tr>\n",
       "  </thead>\n",
       "  <tbody>\n",
       "    <tr>\n",
       "      <th>DACD349_CD45_PLUS</th>\n",
       "      <td>DACD349_CD45_PLUS</td>\n",
       "      <td>T5</td>\n",
       "      <td>C1</td>\n",
       "    </tr>\n",
       "    <tr>\n",
       "      <th>DACD347_CD45_PLUS</th>\n",
       "      <td>DACD347_CD45_PLUS</td>\n",
       "      <td>T5/IL33KD</td>\n",
       "      <td>C1</td>\n",
       "    </tr>\n",
       "    <tr>\n",
       "      <th>E607-CD45</th>\n",
       "      <td>E607-CD45</td>\n",
       "      <td>T5/IL33KD</td>\n",
       "      <td>C2</td>\n",
       "    </tr>\n",
       "    <tr>\n",
       "      <th>E610-CD45</th>\n",
       "      <td>E610-CD45</td>\n",
       "      <td>T5</td>\n",
       "      <td>C2</td>\n",
       "    </tr>\n",
       "    <tr>\n",
       "      <th>E614-CD45</th>\n",
       "      <td>E614-CD45</td>\n",
       "      <td>T5/IL33KD</td>\n",
       "      <td>C2</td>\n",
       "    </tr>\n",
       "  </tbody>\n",
       "</table>\n",
       "</div>"
      ],
      "text/plain": [
       "                               batch  condition cohort\n",
       "batch                                                 \n",
       "DACD349_CD45_PLUS  DACD349_CD45_PLUS         T5     C1\n",
       "DACD347_CD45_PLUS  DACD347_CD45_PLUS  T5/IL33KD     C1\n",
       "E607-CD45                  E607-CD45  T5/IL33KD     C2\n",
       "E610-CD45                  E610-CD45         T5     C2\n",
       "E614-CD45                  E614-CD45  T5/IL33KD     C2"
      ]
     },
     "execution_count": 19,
     "metadata": {},
     "output_type": "execute_result"
    }
   ],
   "source": [
    "#define dataframe to input in milo (at least cells x independent variable)\n",
    "design_df = obs[[\"batch\", \"condition\",'cohort']]\n",
    "design_df.drop_duplicates(inplace=True)\n",
    "design_df.index = design_df['batch']\n",
    "design_df"
   ]
  },
  {
   "cell_type": "markdown",
   "id": "7bd49994",
   "metadata": {},
   "source": [
    "## Run Milo in R"
   ]
  },
  {
   "cell_type": "code",
   "execution_count": 20,
   "id": "3a1036f2",
   "metadata": {
    "ExecuteTime": {
     "end_time": "2022-06-09T18:29:55.465357Z",
     "start_time": "2022-06-09T18:29:19.108557Z"
    }
   },
   "outputs": [
    {
     "name": "stderr",
     "output_type": "stream",
     "text": [
      "R[write to console]: Checking valid object\n",
      "\n",
      "R[write to console]: Checking meta.data validity\n",
      "\n",
      "R[write to console]: Counting cells in neighbourhoods\n",
      "\n",
      "R[write to console]: Using TMM normalisation\n",
      "\n",
      "R[write to console]: Performing spatial FDR correction withk-distance weighting\n",
      "\n"
     ]
    }
   ],
   "source": [
    "%%R -i design_df -o DA_results\n",
    "## Define neighbourhoods\n",
    "milo <- makeNhoods(milo, d=num_PCs, refined = TRUE)\n",
    "\n",
    "## Count cells in neighbourhoods\n",
    "milo <- countCells(milo, meta.data = data.frame(colData(milo)), sample=\"batch\")\n",
    "\n",
    "## Calculate distances between cells in neighbourhoods\n",
    "## for spatial FDR correction\n",
    "milo <- calcNhoodDistance(milo, d=num_PCs)\n",
    "\n",
    "## Test for differential abundance set ~ <confounding_variable>  + <independent variable>\n",
    "\n",
    "#correcting for confounding variable (key of that variable in original adata.obs)\n",
    "#DA_results <- testNhoods(milo, design = ~ confounding_variable + independent_variable , design.df = design_df)\n",
    "\n",
    "#without correcting for confounding variable\n",
    "DA_results <- testNhoods(milo, design = ~ cohort + condition , design.df = design_df)"
   ]
  },
  {
   "cell_type": "code",
   "execution_count": 21,
   "id": "4d456884",
   "metadata": {
    "ExecuteTime": {
     "end_time": "2022-06-09T18:29:55.687991Z",
     "start_time": "2022-06-09T18:29:55.468060Z"
    }
   },
   "outputs": [
    {
     "name": "stdout",
     "output_type": "stream",
     "text": [
      "class: Milo \n",
      "dim: 13408 6774 \n",
      "metadata(0):\n",
      "assays(1): X\n",
      "rownames(13408): WTIP HIST1H2AN ... GBP7 MREG\n",
      "rowData names(0):\n",
      "colnames(6774): 120703423794532_DACD349_CD45_PLUS\n",
      "  120703424093427_DACD349_CD45_PLUS ... 241114607970611_E614-CD45\n",
      "  241114608004012_E614-CD45\n",
      "colData names(6): batch total_molecules ... celltype cluster\n",
      "reducedDimNames(3): PCA TSNE UMAP\n",
      "mainExpName: NULL\n",
      "altExpNames(0):\n",
      "nhoods dimensions(2): 6774 486\n",
      "nhoodCounts dimensions(2): 486 5\n",
      "nhoodDistances dimension(1): 486\n",
      "graph names(1): graph\n",
      "nhoodIndex names(1): 486\n",
      "nhoodExpression dimension(2): 1 1\n",
      "nhoodReducedDim names(0):\n",
      "nhoodGraph names(0):\n",
      "nhoodAdjacency dimension(2): 1 1\n"
     ]
    }
   ],
   "source": [
    "%%R\n",
    "milo"
   ]
  },
  {
   "cell_type": "code",
   "execution_count": 22,
   "id": "19f31843",
   "metadata": {
    "ExecuteTime": {
     "end_time": "2022-06-09T18:29:55.710137Z",
     "start_time": "2022-06-09T18:29:55.690477Z"
    }
   },
   "outputs": [
    {
     "data": {
      "text/html": [
       "<div>\n",
       "<style scoped>\n",
       "    .dataframe tbody tr th:only-of-type {\n",
       "        vertical-align: middle;\n",
       "    }\n",
       "\n",
       "    .dataframe tbody tr th {\n",
       "        vertical-align: top;\n",
       "    }\n",
       "\n",
       "    .dataframe thead th {\n",
       "        text-align: right;\n",
       "    }\n",
       "</style>\n",
       "<table border=\"1\" class=\"dataframe\">\n",
       "  <thead>\n",
       "    <tr style=\"text-align: right;\">\n",
       "      <th></th>\n",
       "      <th>logFC</th>\n",
       "      <th>logCPM</th>\n",
       "      <th>F</th>\n",
       "      <th>PValue</th>\n",
       "      <th>FDR</th>\n",
       "      <th>Nhood</th>\n",
       "      <th>SpatialFDR</th>\n",
       "    </tr>\n",
       "  </thead>\n",
       "  <tbody>\n",
       "    <tr>\n",
       "      <th>470</th>\n",
       "      <td>-2.697832</td>\n",
       "      <td>12.579316</td>\n",
       "      <td>10.266511</td>\n",
       "      <td>0.001399</td>\n",
       "      <td>0.169490</td>\n",
       "      <td>470.0</td>\n",
       "      <td>0.148498</td>\n",
       "    </tr>\n",
       "    <tr>\n",
       "      <th>30</th>\n",
       "      <td>-2.598729</td>\n",
       "      <td>12.749513</td>\n",
       "      <td>10.457588</td>\n",
       "      <td>0.001263</td>\n",
       "      <td>0.169490</td>\n",
       "      <td>30.0</td>\n",
       "      <td>0.148498</td>\n",
       "    </tr>\n",
       "    <tr>\n",
       "      <th>43</th>\n",
       "      <td>-4.364352</td>\n",
       "      <td>11.944076</td>\n",
       "      <td>12.025847</td>\n",
       "      <td>0.000548</td>\n",
       "      <td>0.169490</td>\n",
       "      <td>43.0</td>\n",
       "      <td>0.148498</td>\n",
       "    </tr>\n",
       "    <tr>\n",
       "      <th>238</th>\n",
       "      <td>-4.912691</td>\n",
       "      <td>11.341737</td>\n",
       "      <td>9.700182</td>\n",
       "      <td>0.001896</td>\n",
       "      <td>0.169490</td>\n",
       "      <td>238.0</td>\n",
       "      <td>0.148498</td>\n",
       "    </tr>\n",
       "    <tr>\n",
       "      <th>352</th>\n",
       "      <td>-4.695478</td>\n",
       "      <td>11.247034</td>\n",
       "      <td>9.505751</td>\n",
       "      <td>0.002106</td>\n",
       "      <td>0.169490</td>\n",
       "      <td>352.0</td>\n",
       "      <td>0.148498</td>\n",
       "    </tr>\n",
       "    <tr>\n",
       "      <th>...</th>\n",
       "      <td>...</td>\n",
       "      <td>...</td>\n",
       "      <td>...</td>\n",
       "      <td>...</td>\n",
       "      <td>...</td>\n",
       "      <td>...</td>\n",
       "      <td>...</td>\n",
       "    </tr>\n",
       "    <tr>\n",
       "      <th>321</th>\n",
       "      <td>0.036303</td>\n",
       "      <td>11.121197</td>\n",
       "      <td>0.000499</td>\n",
       "      <td>0.982179</td>\n",
       "      <td>0.988280</td>\n",
       "      <td>321.0</td>\n",
       "      <td>0.988261</td>\n",
       "    </tr>\n",
       "    <tr>\n",
       "      <th>411</th>\n",
       "      <td>-0.028774</td>\n",
       "      <td>11.071016</td>\n",
       "      <td>0.000553</td>\n",
       "      <td>0.981236</td>\n",
       "      <td>0.988280</td>\n",
       "      <td>411.0</td>\n",
       "      <td>0.988261</td>\n",
       "    </tr>\n",
       "    <tr>\n",
       "      <th>408</th>\n",
       "      <td>0.014325</td>\n",
       "      <td>10.969503</td>\n",
       "      <td>0.000133</td>\n",
       "      <td>0.990797</td>\n",
       "      <td>0.994891</td>\n",
       "      <td>408.0</td>\n",
       "      <td>0.994835</td>\n",
       "    </tr>\n",
       "    <tr>\n",
       "      <th>465</th>\n",
       "      <td>0.007962</td>\n",
       "      <td>11.734249</td>\n",
       "      <td>0.000060</td>\n",
       "      <td>0.993812</td>\n",
       "      <td>0.995861</td>\n",
       "      <td>465.0</td>\n",
       "      <td>0.995606</td>\n",
       "    </tr>\n",
       "    <tr>\n",
       "      <th>367</th>\n",
       "      <td>0.007675</td>\n",
       "      <td>11.186559</td>\n",
       "      <td>0.000025</td>\n",
       "      <td>0.995989</td>\n",
       "      <td>0.995989</td>\n",
       "      <td>367.0</td>\n",
       "      <td>0.995989</td>\n",
       "    </tr>\n",
       "  </tbody>\n",
       "</table>\n",
       "<p>486 rows × 7 columns</p>\n",
       "</div>"
      ],
      "text/plain": [
       "        logFC     logCPM          F    PValue       FDR  Nhood  SpatialFDR\n",
       "470 -2.697832  12.579316  10.266511  0.001399  0.169490  470.0    0.148498\n",
       "30  -2.598729  12.749513  10.457588  0.001263  0.169490   30.0    0.148498\n",
       "43  -4.364352  11.944076  12.025847  0.000548  0.169490   43.0    0.148498\n",
       "238 -4.912691  11.341737   9.700182  0.001896  0.169490  238.0    0.148498\n",
       "352 -4.695478  11.247034   9.505751  0.002106  0.169490  352.0    0.148498\n",
       "..        ...        ...        ...       ...       ...    ...         ...\n",
       "321  0.036303  11.121197   0.000499  0.982179  0.988280  321.0    0.988261\n",
       "411 -0.028774  11.071016   0.000553  0.981236  0.988280  411.0    0.988261\n",
       "408  0.014325  10.969503   0.000133  0.990797  0.994891  408.0    0.994835\n",
       "465  0.007962  11.734249   0.000060  0.993812  0.995861  465.0    0.995606\n",
       "367  0.007675  11.186559   0.000025  0.995989  0.995989  367.0    0.995989\n",
       "\n",
       "[486 rows x 7 columns]"
      ]
     },
     "execution_count": 22,
     "metadata": {},
     "output_type": "execute_result"
    }
   ],
   "source": [
    "DA_results.sort_values('FDR')"
   ]
  },
  {
   "cell_type": "code",
   "execution_count": 23,
   "id": "89827a9e",
   "metadata": {
    "ExecuteTime": {
     "end_time": "2022-06-09T18:29:56.217438Z",
     "start_time": "2022-06-09T18:29:55.718287Z"
    }
   },
   "outputs": [
    {
     "name": "stderr",
     "output_type": "stream",
     "text": [
      "R[write to console]: Converting celltype to factor...\n",
      "\n",
      "R[write to console]: Converting cluster to factor...\n",
      "\n"
     ]
    }
   ],
   "source": [
    "%%R -o DA_results_annot -o DA_results_annot_coarse\n",
    "DA_results_annot <- annotateNhoods(milo, DA_results, coldata_col = \"celltype\")\n",
    "DA_results_annot_coarse <- annotateNhoods(milo, DA_results, coldata_col = \"cluster\")"
   ]
  },
  {
   "cell_type": "code",
   "execution_count": 24,
   "id": "adc3851a",
   "metadata": {
    "ExecuteTime": {
     "end_time": "2022-06-09T18:29:56.236847Z",
     "start_time": "2022-06-09T18:29:56.220157Z"
    }
   },
   "outputs": [],
   "source": [
    "DA_results_annot.to_csv(working_dir+\"final_outputs/Figure6/DAResultsAnnot_T5Immune.csv\",index=True,header=True)"
   ]
  },
  {
   "cell_type": "code",
   "execution_count": null,
   "id": "51726602",
   "metadata": {},
   "outputs": [],
   "source": []
  }
 ],
 "metadata": {
  "kernelspec": {
   "display_name": "MyEnv",
   "language": "python",
   "name": "myenv"
  },
  "language_info": {
   "codemirror_mode": {
    "name": "ipython",
    "version": 3
   },
   "file_extension": ".py",
   "mimetype": "text/x-python",
   "name": "python",
   "nbconvert_exporter": "python",
   "pygments_lexer": "ipython3",
   "version": "3.6.12"
  },
  "toc": {
   "base_numbering": 1,
   "nav_menu": {},
   "number_sections": true,
   "sideBar": true,
   "skip_h1_title": false,
   "title_cell": "Table of Contents",
   "title_sidebar": "Contents",
   "toc_cell": false,
   "toc_position": {},
   "toc_section_display": true,
   "toc_window_display": false
  }
 },
 "nbformat": 4,
 "nbformat_minor": 5
}
